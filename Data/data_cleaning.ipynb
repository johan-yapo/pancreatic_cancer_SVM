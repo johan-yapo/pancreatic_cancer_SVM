{
 "cells": [
  {
   "cell_type": "markdown",
   "id": "324859e6",
   "metadata": {},
   "source": [
    "Description: Cleaning and preparing the datasets one of the protein markers for machine learning training \n",
    "Developed by: Johan A. Yapo\n",
    "Date: June 2nd 2025"
   ]
  },
  {
   "cell_type": "code",
   "execution_count": null,
   "id": "8c16a9fc",
   "metadata": {},
   "outputs": [],
   "source": [
    "# Load libraries\n",
    "import pandas as pd\n",
    "import matplotlib.pyplot as plt"
   ]
  },
  {
   "cell_type": "code",
   "execution_count": null,
   "id": "9d9f3bd6",
   "metadata": {},
   "outputs": [],
   "source": [
    "cols_to_avg = ['Rsol', 'Rp', 'CPE', 'CV_Area', 'Delta_Z']\n",
    "\n",
    "# Build aggregation: mean for numeric cols, first for Class_Multimodal\n",
    "agg_dict = {col: 'mean' for col in cols_to_avg}\n",
    "agg_dict['Class_Multimodal'] = 'first'\n",
    "\n",
    "# Group by 'Type' and aggregate\n",
    "df_avg = df.groupby('Type').agg(agg_dict).reset_index()\n",
    "\n",
    "# Reorder columns: Type, Class_Multimodal, then averaged metrics\n",
    "df_avg = df_avg[['Type', 'Class_Multimodal'] + cols_to_avg]\n",
    "\n",
    "# Display the result\n",
    "df_avg"
   ]
  },
  {
   "cell_type": "code",
   "execution_count": null,
   "id": "bc64f7f1",
   "metadata": {},
   "outputs": [],
   "source": []
  }
 ],
 "metadata": {
  "kernelspec": {
   "display_name": "env",
   "language": "python",
   "name": "python3"
  },
  "language_info": {
   "name": "python",
   "version": "3.12.5"
  }
 },
 "nbformat": 4,
 "nbformat_minor": 5
}
